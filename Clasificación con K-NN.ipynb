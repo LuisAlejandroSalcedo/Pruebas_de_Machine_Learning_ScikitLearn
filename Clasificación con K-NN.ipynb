{
 "cells": [
  {
   "cell_type": "code",
   "execution_count": 7,
   "metadata": {},
   "outputs": [
    {
     "data": {
      "text/plain": [
       "0.94736842105263153"
      ]
     },
     "execution_count": 7,
     "metadata": {},
     "output_type": "execute_result"
    }
   ],
   "source": [
    "from sklearn.neighbors import KNeighborsClassifier #Importamos al método \n",
    "from sklearn.datasets import load_iris #Importamos el conjunto de datos\n",
    "from sklearn.model_selection import train_test_split \n",
    "\n",
    "iris = load_iris() #Guardamos el conjunto de datos Iris en una variable\n",
    "\n",
    "#Dividimos nuestros datos en \"conjunto de entrenamiento y de prueba\n",
    "x_train, x_test, y_train, y_test = train_test_split(iris.data, iris.target) \n",
    "\n",
    "knn = KNeighborsClassifier(n_neighbors=5) #Declaramos al método\n",
    "\n",
    "knn.fit(x_train, y_train) #Ajustamos a al método\n",
    "\n",
    "knn.score(x_test, y_test) # El porcentaje de acertamiento del método"
   ]
  },
  {
   "cell_type": "code",
   "execution_count": null,
   "metadata": {},
   "outputs": [],
   "source": []
  }
 ],
 "metadata": {
  "kernelspec": {
   "display_name": "Python 3",
   "language": "python",
   "name": "python3"
  },
  "language_info": {
   "codemirror_mode": {
    "name": "ipython",
    "version": 3
   },
   "file_extension": ".py",
   "mimetype": "text/x-python",
   "name": "python",
   "nbconvert_exporter": "python",
   "pygments_lexer": "ipython3",
   "version": "3.6.4"
  }
 },
 "nbformat": 4,
 "nbformat_minor": 2
}
